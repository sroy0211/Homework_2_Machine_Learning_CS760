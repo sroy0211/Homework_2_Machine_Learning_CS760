{
  "nbformat": 4,
  "nbformat_minor": 0,
  "metadata": {
    "colab": {
      "provenance": []
    },
    "kernelspec": {
      "name": "python3",
      "display_name": "Python 3"
    },
    "language_info": {
      "name": "python"
    }
  },
  "cells": [
    {
      "cell_type": "code",
      "source": [
        "from google.colab import drive\n",
        "drive.mount('/content/drive',force_remount=True)"
      ],
      "metadata": {
        "colab": {
          "base_uri": "https://localhost:8080/"
        },
        "id": "5Xyb0-qqFd_E",
        "outputId": "59d5407e-e930-4d62-95fc-9995e72a4189"
      },
      "execution_count": 1,
      "outputs": [
        {
          "output_type": "stream",
          "name": "stdout",
          "text": [
            "Mounted at /content/drive\n"
          ]
        }
      ]
    },
    {
      "cell_type": "code",
      "source": [
        "# Section No.2\n",
        "\n",
        "# Question No.6\n",
        "\n",
        "# Importing the libraries\n",
        "\n",
        "import numpy as np\n",
        "import pandas as pd\n",
        "\n",
        "# Reading the D1.txt and D2.txt data\n",
        "\n",
        "df_1 = pd.read_csv('/content/drive/MyDrive/Homework 2 data/D1.txt')\n",
        "\n",
        "df_2 = pd.read_csv('/content/drive/MyDrive/Homework 2 data/D2.txt')\n"
      ],
      "metadata": {
        "id": "TwBO_l8S8Ys4"
      },
      "execution_count": 5,
      "outputs": []
    },
    {
      "cell_type": "code",
      "source": [],
      "metadata": {
        "id": "emyU5K9tI3bH"
      },
      "execution_count": null,
      "outputs": []
    }
  ]
}