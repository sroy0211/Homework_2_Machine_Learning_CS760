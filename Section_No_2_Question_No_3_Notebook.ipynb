{
  "nbformat": 4,
  "nbformat_minor": 0,
  "metadata": {
    "colab": {
      "provenance": []
    },
    "kernelspec": {
      "name": "python3",
      "display_name": "Python 3"
    },
    "language_info": {
      "name": "python"
    }
  },
  "cells": [
    {
      "cell_type": "code",
      "source": [
        "from google.colab import drive\n",
        "drive.mount('/content/drive',force_remount=True)"
      ],
      "metadata": {
        "colab": {
          "base_uri": "https://localhost:8080/"
        },
        "id": "5Xyb0-qqFd_E",
        "outputId": "59d5407e-e930-4d62-95fc-9995e72a4189"
      },
      "execution_count": 1,
      "outputs": [
        {
          "output_type": "stream",
          "name": "stdout",
          "text": [
            "Mounted at /content/drive\n"
          ]
        }
      ]
    },
    {
      "cell_type": "code",
      "source": [
        "# Section No.2\n",
        "\n",
        "# Question No.3\n",
        "\n",
        "# Importing the libraries\n",
        "\n",
        "import numpy as np\n",
        "import pandas as pd\n",
        "\n",
        "# Reading the Druns.txt data\n",
        "\n",
        "df = pd.read_csv('/content/drive/MyDrive/Homework 2 data/Druns.txt')\n",
        "\n",
        "# For information gain we need to calculate entropy\n",
        "\n",
        "def entropy(m):\n",
        "\n",
        "  ent = -m * np.log2(m) - (1 - m) * np.log2(1 - m)\n",
        "\n",
        "  return ent\n",
        "\n",
        "# Making a new dataframe by inserting the columns and reading the values column wise\n",
        "\n",
        "df_new = pd.DataFrame()\n",
        "\n",
        "df_new = df_new.assign(Variable_1 = [0.1,0,0,0,0,0,0,0,0,0,0] , Variable_2 = [-2,-1,0,1,2,3,4,5,6,7,8] , Output = [0,1,0,0,0,0,0,0,1,0,1])\n",
        "\n",
        "for i in df_new['Variable_1']:\n",
        "\n",
        "  # Taking the entropy\n",
        "\n",
        "  entropy_left = entropy(i)\n",
        "\n",
        "  entropy_right = entropy(df_new('Variable_2'))"
      ],
      "metadata": {
        "id": "TwBO_l8S8Ys4"
      },
      "execution_count": 2,
      "outputs": []
    },
    {
      "cell_type": "code",
      "source": [],
      "metadata": {
        "id": "emyU5K9tI3bH"
      },
      "execution_count": null,
      "outputs": []
    }
  ]
}