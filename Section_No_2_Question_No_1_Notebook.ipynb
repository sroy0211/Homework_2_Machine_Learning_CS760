{
  "nbformat": 4,
  "nbformat_minor": 0,
  "metadata": {
    "colab": {
      "provenance": []
    },
    "kernelspec": {
      "name": "python3",
      "display_name": "Python 3"
    },
    "language_info": {
      "name": "python"
    }
  },
  "cells": [
    {
      "cell_type": "code",
      "source": [
        "# Section No.2\n",
        "\n",
        "# Question No.1\n",
        "\n",
        "# Importing the libraries\n",
        "\n",
        "import numpy as np\n",
        "\n",
        "# For this question making a function for information gain ratio\n",
        "\n",
        "# Information gain ratio uses entropy so we need to define a function for it.\n",
        "\n",
        "def entropy(m):\n",
        "\n",
        "  ent = -m * np.log2(m) - (1 - m) * np.log2(1 - m)\n",
        "  return ent\n",
        "\n",
        "# Defining the information gain ratio function with inputs of left, right and middle nodes\n",
        "\n",
        "def information_gain_ratio(middle, left, right):\n",
        "\n",
        "  # For this question the main part would be focusing on entropy\n",
        "\n",
        "  middle_entropy = entropy(middle)\n",
        "  left_entropy = entropy(left)\n",
        "  right_entropy = entropy(right)\n",
        "\n",
        "  # If a node is not empty but contains training items with the same label then the entropy of any split for that node is zero\n",
        "\n",
        "  if middle_entropy == 0 or left_entropy == 0 or right_entropy == 0:\n",
        "    return 0\n",
        "\n",
        "  # Which ultimately leads to making a leaf."
      ],
      "metadata": {
        "id": "TwBO_l8S8Ys4"
      },
      "execution_count": null,
      "outputs": []
    }
  ]
}