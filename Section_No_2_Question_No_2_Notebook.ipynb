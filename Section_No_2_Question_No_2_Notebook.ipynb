{
  "nbformat": 4,
  "nbformat_minor": 0,
  "metadata": {
    "colab": {
      "provenance": []
    },
    "kernelspec": {
      "name": "python3",
      "display_name": "Python 3"
    },
    "language_info": {
      "name": "python"
    }
  },
  "cells": [
    {
      "cell_type": "code",
      "source": [
        "# Section No.2\n",
        "\n",
        "# Question No.2\n",
        "\n",
        "# Importing the libraries\n",
        "\n",
        "import numpy as np\n",
        "\n",
        "# Handcrafting a small training set\n",
        "\n",
        "X = np.array([[34, 34], [35, 35], [36, 36], [37, 37]])\n",
        "y = np.array([0, 1, 0, 1, 0])\n",
        "\n",
        "# In the training set there are four data points and both the classes are present.\n",
        "\n",
        "# The algorithm refuses to split and instead it makes the root a leaf and stop.\n",
        "\n",
        "# This can happen due to the data points of the two classes in this case which almost overlapp to each other in the feature space.\n",
        "\n",
        "# Splitting the data further is not an advantage and hence does not split."
      ],
      "metadata": {
        "id": "TwBO_l8S8Ys4"
      },
      "execution_count": null,
      "outputs": []
    }
  ]
}