{
  "nbformat": 4,
  "nbformat_minor": 0,
  "metadata": {
    "colab": {
      "provenance": []
    },
    "kernelspec": {
      "name": "python3",
      "display_name": "Python 3"
    },
    "language_info": {
      "name": "python"
    }
  },
  "cells": [
    {
      "cell_type": "code",
      "execution_count": null,
      "metadata": {
        "colab": {
          "base_uri": "https://localhost:8080/"
        },
        "id": "w-pyjl4uZpdE",
        "outputId": "da6f8dfe-3305-4816-dfec-63f59f29f7ac"
      },
      "outputs": [
        {
          "output_type": "stream",
          "name": "stdout",
          "text": [
            "The training error is:  3.1708017915282152e+212\n",
            "The test error is:  3.1708017915282152e+212\n"
          ]
        }
      ],
      "source": [
        "# Section No.4\n",
        "\n",
        "# Code without noise\n",
        "\n",
        "# Importing Libraries\n",
        "\n",
        "import numpy as np\n",
        "import matplotlib.pyplot as plt\n",
        "from scipy.interpolate import lagrange\n",
        "from sklearn.metrics import mean_squared_error\n",
        "\n",
        "# Taking some values for interval [a,b]\n",
        "\n",
        "a = np.pi\n",
        "b = 2 * np.pi\n",
        "\n",
        "# Taking 100 sample points according to the question\n",
        "\n",
        "n = 100\n",
        "\n",
        "# Making the value of x uniform in the given interval\n",
        "\n",
        "x = np.linspace(a, b, n)\n",
        "\n",
        "# Making y as a sine funtion of x\n",
        "\n",
        "y = np.sin(x)\n",
        "\n",
        "# Making a model function f by using Lagrange Interpolation\n",
        "\n",
        "lagrange_interpolation = lagrange(x, y)\n",
        "\n",
        "# Generating a test set using the same distribution as my test set\n",
        "\n",
        "x_test_set = np.linspace(a, b, n)\n",
        "y_test_set = np.sin(x_test_set)\n",
        "\n",
        "#  Computing the resulting model’s train and test error\n",
        "\n",
        "y_train_pred = lagrange_interpolation(x)\n",
        "y_test_pred = lagrange_interpolation(x_test_set)\n",
        "\n",
        "train_error = mean_squared_error(y, y_train_pred)\n",
        "test_error = mean_squared_error(y_test_set, y_test_pred)\n",
        "\n",
        "print(\"The training error is: \", train_error)\n",
        "print(\"The test error is: \", test_error)"
      ]
    },
    {
      "cell_type": "code",
      "source": [
        "# Code with Zero-Mean Gaussian Noise ε added to x\n",
        "\n",
        "# Importing Libraries\n",
        "\n",
        "import numpy as np\n",
        "import matplotlib.pyplot as plt\n",
        "from scipy.interpolate import lagrange\n",
        "from sklearn.metrics import mean_squared_error\n",
        "\n",
        "# Taking some values for interval [a,b]\n",
        "\n",
        "a = np.pi\n",
        "b = 2 * np.pi\n",
        "\n",
        "# Taking 100 sample points according to the question\n",
        "\n",
        "n = 100\n",
        "\n",
        "# Making the value of x uniform in the given interval\n",
        "\n",
        "x = np.linspace(a, b, n)\n",
        "\n",
        "# Making y as a sine funtion of x\n",
        "\n",
        "y = np.sin(x)\n",
        "\n",
        "# Creating Zero-Mean Gaussian Noise with standard deviation 0.5\n",
        "\n",
        "noise_first = np.random.normal(0, 0.5, n)\n",
        "\n",
        "# Creating Zero-Mean Gaussian Noise with standard deviation 2.0\n",
        "\n",
        "noise_second = np.random.normal(0, 2.0, n)\n",
        "\n",
        "# Adding Noise to x\n",
        "\n",
        "x_first = x + noise_first\n",
        "x_second = x + noise_second\n",
        "\n",
        "# Making a model function f by using Lagrange Interpolation with noise\n",
        "\n",
        "lagrange_interpolation_first = lagrange(x_first, y)\n",
        "lagrange_interpolation_second = lagrange(x_second, y)\n",
        "\n",
        "# Generating a test set using the same distribution as my test set\n",
        "\n",
        "x_test_set_noise = np.linspace(a, b, n)\n",
        "y_test_set_noise = np.sin(x_test_set_noise)\n",
        "\n",
        "# Computing the resulting model’s train and test error for standard deviation = 0.5\n",
        "\n",
        "y_train_pred_first = lagrange_interpolation_first(x_first)\n",
        "y_test_pred_first = lagrange_interpolation_first(x_test_set_noise)\n",
        "\n",
        "train_error_first = mean_squared_error(y, y_train_pred_first)\n",
        "test_error_first = mean_squared_error(y_test_set_noise, y_test_pred_first)\n",
        "\n",
        "print(\"The training error for standard deviation = 0.5 is: \", train_error_first)\n",
        "print(\"The test error for standard deviation = 0.5 is: \", test_error_first)\n",
        "\n",
        "print (\"\\n\")\n",
        "\n",
        "# Computing the resulting model’s train and test error for standard deviation = 2\n",
        "\n",
        "y_train_pred_second = lagrange_interpolation_second(x_second)\n",
        "y_test_pred_second = lagrange_interpolation_second(x_test_set_noise)\n",
        "\n",
        "train_error_second = mean_squared_error(y, y_train_pred_second)\n",
        "test_error_second = mean_squared_error(y_test_set_noise, y_test_pred_second)\n",
        "\n",
        "print(\"The training error for standard deviation = 2 is: \", train_error_second)\n",
        "print(\"The test error for standard deviation = 2 is: \", test_error_second)"
      ],
      "metadata": {
        "colab": {
          "base_uri": "https://localhost:8080/"
        },
        "id": "HBQ9AOMGrlOH",
        "outputId": "bf9eb271-5033-4300-cac9-0a66ef125bda"
      },
      "execution_count": null,
      "outputs": [
        {
          "output_type": "stream",
          "name": "stdout",
          "text": [
            "The training error for standard deviation = 0.5 is:  3.9547973609402213e+228\n",
            "The test error for standard deviation = 0.5 is:  3.506619972347216e+222\n",
            "\n",
            "\n",
            "The training error for standard deviation = 2 is:  8.281415240712402e+193\n",
            "The test error for standard deviation = 2 is:  5.8701125337280885e+162\n"
          ]
        }
      ]
    },
    {
      "cell_type": "markdown",
      "source": [
        "From the above results it can be seen that when there is no noise then the model’s train and test error is same. But in the case of adding noise then as\n",
        "the standard deviation increases then both the training and test error increases."
      ],
      "metadata": {
        "id": "pa3W2umr7cK2"
      }
    }
  ]
}